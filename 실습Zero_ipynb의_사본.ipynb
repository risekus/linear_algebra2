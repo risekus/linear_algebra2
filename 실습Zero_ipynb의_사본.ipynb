{
  "nbformat": 4,
  "nbformat_minor": 0,
  "metadata": {
    "colab": {
      "provenance": [],
      "include_colab_link": true
    },
    "kernelspec": {
      "name": "python3",
      "display_name": "Python 3"
    },
    "language_info": {
      "name": "python"
    }
  },
  "cells": [
    {
      "cell_type": "markdown",
      "metadata": {
        "id": "view-in-github",
        "colab_type": "text"
      },
      "source": [
        "<a href=\"https://colab.research.google.com/github/risekus/linear_algebra2/blob/main/%EC%8B%A4%EC%8A%B5Zero_ipynb%EC%9D%98_%EC%82%AC%EB%B3%B8.ipynb\" target=\"_parent\"><img src=\"https://colab.research.google.com/assets/colab-badge.svg\" alt=\"Open In Colab\"/></a>"
      ]
    },
    {
      "cell_type": "code",
      "execution_count": null,
      "metadata": {
        "colab": {
          "base_uri": "https://localhost:8080/"
        },
        "id": "CgQ2954EVzel",
        "outputId": "b110c5eb-71bd-4152-dd16-8900d77c633c"
      },
      "outputs": [
        {
          "output_type": "stream",
          "name": "stdout",
          "text": [
            "Hello World\n",
            "정수: 3, 03, 003, 0003, 00003\n",
            "실수: 256, 256.1, 256.12\n",
            "문자열: [hello, world]\n"
          ]
        }
      ],
      "source": [
        "print(\"Hello World\")\n",
        "\n",
        "#integer\n",
        "x = 3\n",
        "print (\"정수: %01d, %02d, %03d, %04d, %05d\"\n",
        "      % ( x,x,x,x,x))\n",
        "\n",
        "# float\n",
        "x = 256.123\n",
        "print ( \"실수: %.0f, %.1f, %.2f\"\n",
        "      %(x,x,x))\n",
        "\n",
        "# string\n",
        "x = \"hello, world\"\n",
        "print (\"문자열: [%s]\" % (x))"
      ]
    },
    {
      "cell_type": "markdown",
      "source": [
        "반복문,조건문"
      ],
      "metadata": {
        "id": "MK9Uu598YnYs"
      }
    },
    {
      "cell_type": "code",
      "source": [
        "contents = [\"regression\", \"classification\", \"svm\", \"clustering\", \"dimension reduction\",\n",
        "            \"nn\", \"cnn\", \"ae\", \"gan\", \"rnn\"]\n",
        "for con in contents:\n",
        "  if con in [\"regression\", \"classification\", \"svm\", \"clustering\", \"dimension reduction\"]:\n",
        "    print (\"%s 은(는) 기계학습 내용입니다.\" %con)\n",
        "  elif con in [\"cnn\"]:\n",
        "    print(\"%s 은(는) convolutional neural network입니다.\" %con)\n",
        "  else:\n",
        "    print (\"%s은(는) 심층학습 내용입니다.\" %con)"
      ],
      "metadata": {
        "colab": {
          "base_uri": "https://localhost:8080/"
        },
        "id": "Jf16BMSzYtaf",
        "outputId": "25ec8b4d-f35c-4c26-df74-4e74dea60201"
      },
      "execution_count": null,
      "outputs": [
        {
          "output_type": "stream",
          "name": "stdout",
          "text": [
            "regression 은(는) 기계학습 내용입니다.\n",
            "classification 은(는) 기계학습 내용입니다.\n",
            "svm 은(는) 기계학습 내용입니다.\n",
            "clustering 은(는) 기계학습 내용입니다.\n",
            "dimension reduction 은(는) 기계학습 내용입니다.\n",
            "nn은(는) 심층학습 내용입니다.\n",
            "cnn 은(는) convolutional neural network입니다.\n",
            "ae은(는) 심층학습 내용입니다.\n",
            "gan은(는) 심층학습 내용입니다.\n",
            "rnn은(는) 심층학습 내용입니다.\n"
          ]
        }
      ]
    },
    {
      "cell_type": "markdown",
      "source": [
        "반복문과 인덱스"
      ],
      "metadata": {
        "id": "e5zyOMzGaAil"
      }
    },
    {
      "cell_type": "code",
      "source": [
        "for (i,con) in enumerate(contents):\n",
        "  print (\"[%d/%d]: %s\" %(i, len(contents), con))"
      ],
      "metadata": {
        "colab": {
          "base_uri": "https://localhost:8080/"
        },
        "id": "sRcLmkCSaD57",
        "outputId": "dadbcc89-4a6e-4538-d12d-2bbe95165f49"
      },
      "execution_count": null,
      "outputs": [
        {
          "output_type": "stream",
          "name": "stdout",
          "text": [
            "[0/10]: regression\n",
            "[1/10]: classification\n",
            "[2/10]: svm\n",
            "[3/10]: clustering\n",
            "[4/10]: dimension reduction\n",
            "[5/10]: nn\n",
            "[6/10]: cnn\n",
            "[7/10]: ae\n",
            "[8/10]: gan\n",
            "[9/10]: rnn\n"
          ]
        }
      ]
    },
    {
      "cell_type": "markdown",
      "source": [
        "함수"
      ],
      "metadata": {
        "id": "HtPX1ynCbb3Z"
      }
    },
    {
      "cell_type": "code",
      "source": [
        "def sum(a,b):\n",
        "  return a+b\n",
        "\n",
        "x = 10.0\n",
        "y = 20.0\n",
        "print (\"%.1f + %.1f = %.1f\" %(x, y, sum(x,y)))"
      ],
      "metadata": {
        "colab": {
          "base_uri": "https://localhost:8080/"
        },
        "id": "SIJJvLetbeVd",
        "outputId": "3d807d92-0fe2-46c3-c88f-7d512af62b1a"
      },
      "execution_count": null,
      "outputs": [
        {
          "output_type": "stream",
          "name": "stdout",
          "text": [
            "10.0 + 20.0 = 30.0\n"
          ]
        }
      ]
    },
    {
      "cell_type": "markdown",
      "source": [
        "리스트"
      ],
      "metadata": {
        "id": "tOQvhNiEb3mI"
      }
    },
    {
      "cell_type": "code",
      "source": [
        "a = []\n",
        "b = [1,2,3]\n",
        "c = [\"hello\", \",\", \"world\"]\n",
        "d = [1,2,3,\"x\", \"y\", \"z\"]\n",
        "x = []\n",
        "print (x)\n",
        "\n",
        "x.append('a')\n",
        "print(x)\n",
        "\n",
        "x.append(123)\n",
        "print(x)\n",
        "\n",
        "x.append([\"a\", \"b\"])\n",
        "print (x)\n"
      ],
      "metadata": {
        "colab": {
          "base_uri": "https://localhost:8080/"
        },
        "id": "7k3RJM8mb57j",
        "outputId": "9e75e7c5-7a20-400a-c215-a75dc4bfff23"
      },
      "execution_count": null,
      "outputs": [
        {
          "output_type": "stream",
          "name": "stdout",
          "text": [
            "[]\n",
            "['a']\n",
            "['a', 123]\n",
            "['a', 123, ['a', 'b']]\n"
          ]
        }
      ]
    },
    {
      "cell_type": "markdown",
      "source": [
        "딕셔너리"
      ],
      "metadata": {
        "id": "VAgPrpOCcxWf"
      }
    },
    {
      "cell_type": "code",
      "source": [
        "dic = dict()\n",
        "dic[\"name\"] = \"daesik\"\n",
        "dic[\"town\"] = \"yongin city\"\n",
        "dic[\"job\"] = \"assistant professor\"\n",
        "print (dic)"
      ],
      "metadata": {
        "colab": {
          "base_uri": "https://localhost:8080/"
        },
        "id": "C7EwJr7Pc1D1",
        "outputId": "0e818a22-5ee7-41e1-d9ef-b5d292e1f449"
      },
      "execution_count": null,
      "outputs": [
        {
          "output_type": "stream",
          "name": "stdout",
          "text": [
            "{'name': 'daesik', 'town': 'yongin city', 'job': 'assistant professor'}\n"
          ]
        }
      ]
    },
    {
      "cell_type": "markdown",
      "source": [
        "클래스"
      ],
      "metadata": {
        "id": "SE7DjiKudO86"
      }
    },
    {
      "cell_type": "code",
      "source": [
        "class student:\n",
        "  # 생성자\n",
        "  def __init__(self, name):\n",
        "    self.name = name\n",
        "  def study(self, hard=False):\n",
        "    if hard:\n",
        "      print (\"%s 학생은 열심히 공부합니다.\" %self.name)\n",
        "    else:\n",
        "      print (\"%s 학생은 공부합니다.\" %self.name)\n",
        "\n",
        "s = student('daesik')\n",
        "s.study()\n",
        "s.study(hard = True)"
      ],
      "metadata": {
        "colab": {
          "base_uri": "https://localhost:8080/"
        },
        "id": "LmguUCfZdQOl",
        "outputId": "17edb9cc-c2bc-4f11-8697-abf1981298b3"
      },
      "execution_count": null,
      "outputs": [
        {
          "output_type": "stream",
          "name": "stdout",
          "text": [
            "daesik 학생은 공부합니다.\n",
            "daesik 학생은 열심히 공부합니다.\n"
          ]
        }
      ]
    },
    {
      "cell_type": "markdown",
      "source": [
        "2. 벡터, 행렬 연산, 그래프 그리기"
      ],
      "metadata": {
        "id": "GJNS1m-NeSUm"
      }
    },
    {
      "cell_type": "markdown",
      "source": [
        "라이브러리 로드"
      ],
      "metadata": {
        "id": "_U0gfTXPOlXo"
      }
    },
    {
      "cell_type": "code",
      "source": [
        "import numpy as np\n"
      ],
      "metadata": {
        "id": "ACGkX_vJOnP8"
      },
      "execution_count": null,
      "outputs": []
    },
    {
      "cell_type": "markdown",
      "source": [
        "프린트"
      ],
      "metadata": {
        "id": "z6dOSKzNegje"
      }
    },
    {
      "cell_type": "code",
      "source": [
        "def print_val(x):\n",
        "  print (\"Type:\", type(x))\n",
        "  print (\"shape:\", x.shape)\n",
        "  print (\"값:\\n\", x)\n",
        "  print (\" \")"
      ],
      "metadata": {
        "id": "xYyCIYC9ejb8"
      },
      "execution_count": null,
      "outputs": []
    },
    {
      "cell_type": "markdown",
      "source": [
        "rank 1 up array"
      ],
      "metadata": {
        "id": "X44tGsdyNNKC"
      }
    },
    {
      "cell_type": "code",
      "source": [
        "x = np.array([1, 2, 3])\n",
        "print_val(x)\n",
        "\n",
        "x[0] = 5\n",
        "print_val(x)"
      ],
      "metadata": {
        "id": "9c3tC-aqNV-G"
      },
      "execution_count": null,
      "outputs": []
    },
    {
      "cell_type": "markdown",
      "source": [
        "랜덤행렬"
      ],
      "metadata": {
        "id": "NvQykRxNNsyc"
      }
    },
    {
      "cell_type": "code",
      "source": [
        "a = np.random.random((4, 4))\n",
        "print_val(a)"
      ],
      "metadata": {
        "id": "btrLHqo1N2j8",
        "outputId": "4c94feb7-9982-4bc9-d6b0-b766c690b444",
        "colab": {
          "base_uri": "https://localhost:8080/"
        }
      },
      "execution_count": null,
      "outputs": [
        {
          "output_type": "stream",
          "name": "stdout",
          "text": [
            "Type: <class 'numpy.ndarray'>\n",
            "shape: (4, 4)\n",
            "값:\n",
            " [[0.95924919 0.21456381 0.09855097 0.76096286]\n",
            " [0.40406424 0.56007999 0.54911765 0.70007953]\n",
            " [0.42158557 0.3020866  0.75588932 0.05320152]\n",
            " [0.6306974  0.77322692 0.41545671 0.86072935]]\n",
            " \n"
          ]
        }
      ]
    },
    {
      "cell_type": "code",
      "source": [
        "a = np.random.randn(4,4)\n",
        "print_val(a)"
      ],
      "metadata": {
        "id": "USM1i0LFPmba",
        "outputId": "8a87ddb2-2592-4f33-e8f9-f11c5a297f4b",
        "colab": {
          "base_uri": "https://localhost:8080/"
        }
      },
      "execution_count": null,
      "outputs": [
        {
          "output_type": "stream",
          "name": "stdout",
          "text": [
            "Type: <class 'numpy.ndarray'>\n",
            "shape: (4, 4)\n",
            "값:\n",
            " [[ 0.15587131 -0.04876607  0.18263039  0.87937573]\n",
            " [ 1.96158195  0.04404019 -1.75693701 -0.11879391]\n",
            " [ 0.26518703  1.22027213  0.16090392 -1.01851839]\n",
            " [ 0.35907768  0.72002272  0.1209801  -0.44638948]]\n",
            " \n"
          ]
        }
      ]
    },
    {
      "cell_type": "markdown",
      "source": [
        "np array indexing"
      ],
      "metadata": {
        "id": "GVG_LppiPsg2"
      }
    },
    {
      "cell_type": "code",
      "source": [
        "a = np.array([[1,2,3,4], [5,6,7,8], [9,10,11,12]])\n",
        "print_val(a)"
      ],
      "metadata": {
        "id": "YMt0ZRttPvL0",
        "outputId": "a4479f04-59aa-417d-ef4e-8de94a950e92",
        "colab": {
          "base_uri": "https://localhost:8080/"
        }
      },
      "execution_count": null,
      "outputs": [
        {
          "output_type": "stream",
          "name": "stdout",
          "text": [
            "Type: <class 'numpy.ndarray'>\n",
            "shape: (3, 4)\n",
            "값:\n",
            " [[ 1  2  3  4]\n",
            " [ 5  6  7  8]\n",
            " [ 9 10 11 12]]\n",
            " \n"
          ]
        }
      ]
    },
    {
      "cell_type": "code",
      "source": [
        "b = a[:2, 1:3]\n",
        "print_val(b)"
      ],
      "metadata": {
        "id": "Zb4bVgWwP418",
        "outputId": "2b6dc6ff-d539-454f-dd01-fabbd74f9acc",
        "colab": {
          "base_uri": "https://localhost:8080/"
        }
      },
      "execution_count": null,
      "outputs": [
        {
          "output_type": "stream",
          "name": "stdout",
          "text": [
            "Type: <class 'numpy.ndarray'>\n",
            "shape: (2, 2)\n",
            "값:\n",
            " [[2 3]\n",
            " [6 7]]\n",
            " \n"
          ]
        }
      ]
    }
  ]
}