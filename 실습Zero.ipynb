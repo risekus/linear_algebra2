{
  "nbformat": 4,
  "nbformat_minor": 0,
  "metadata": {
    "colab": {
      "provenance": [],
      "authorship_tag": "ABX9TyPzWP753vUEACZP+zkXhq8D",
      "include_colab_link": true
    },
    "kernelspec": {
      "name": "python3",
      "display_name": "Python 3"
    },
    "language_info": {
      "name": "python"
    }
  },
  "cells": [
    {
      "cell_type": "markdown",
      "metadata": {
        "id": "view-in-github",
        "colab_type": "text"
      },
      "source": [
        "<a href=\"https://colab.research.google.com/github/risekus/linear_algebra2/blob/main/%EC%8B%A4%EC%8A%B5Zero.ipynb\" target=\"_parent\"><img src=\"https://colab.research.google.com/assets/colab-badge.svg\" alt=\"Open In Colab\"/></a>"
      ]
    },
    {
      "cell_type": "code",
      "execution_count": 3,
      "metadata": {
        "colab": {
          "base_uri": "https://localhost:8080/"
        },
        "id": "CgQ2954EVzel",
        "outputId": "b110c5eb-71bd-4152-dd16-8900d77c633c"
      },
      "outputs": [
        {
          "output_type": "stream",
          "name": "stdout",
          "text": [
            "Hello World\n",
            "정수: 3, 03, 003, 0003, 00003\n",
            "실수: 256, 256.1, 256.12\n",
            "문자열: [hello, world]\n"
          ]
        }
      ],
      "source": [
        "print(\"Hello World\")\n",
        "\n",
        "#integer\n",
        "x = 3\n",
        "print (\"정수: %01d, %02d, %03d, %04d, %05d\"\n",
        "      % ( x,x,x,x,x))\n",
        "\n",
        "# float\n",
        "x = 256.123\n",
        "print ( \"실수: %.0f, %.1f, %.2f\"\n",
        "      %(x,x,x))\n",
        "\n",
        "# string\n",
        "x = \"hello, world\"\n",
        "print (\"문자열: [%s]\" % (x))"
      ]
    },
    {
      "cell_type": "markdown",
      "source": [
        "반복문,조건문"
      ],
      "metadata": {
        "id": "MK9Uu598YnYs"
      }
    },
    {
      "cell_type": "code",
      "source": [
        "contents = [\"regression\", \"classification\", \"svm\", \"clustering\", \"dimension reduction\",\n",
        "            \"nn\", \"cnn\", \"ae\", \"gan\", \"rnn\"]\n",
        "for con in contents:\n",
        "  if con in [\"regression\", \"classification\", \"svm\", \"clustering\", \"dimension reduction\"]:\n",
        "    print (\"%s 은(는) 기계학습 내용입니다.\" %con)\n",
        "  elif con in [\"cnn\"]:\n",
        "    print(\"%s 은(는) convolutional neural network입니다.\" %con)\n",
        "  else:\n",
        "    print (\"%s은(는) 심층학습 내용입니다.\" %con)"
      ],
      "metadata": {
        "colab": {
          "base_uri": "https://localhost:8080/"
        },
        "id": "Jf16BMSzYtaf",
        "outputId": "25ec8b4d-f35c-4c26-df74-4e74dea60201"
      },
      "execution_count": 4,
      "outputs": [
        {
          "output_type": "stream",
          "name": "stdout",
          "text": [
            "regression 은(는) 기계학습 내용입니다.\n",
            "classification 은(는) 기계학습 내용입니다.\n",
            "svm 은(는) 기계학습 내용입니다.\n",
            "clustering 은(는) 기계학습 내용입니다.\n",
            "dimension reduction 은(는) 기계학습 내용입니다.\n",
            "nn은(는) 심층학습 내용입니다.\n",
            "cnn 은(는) convolutional neural network입니다.\n",
            "ae은(는) 심층학습 내용입니다.\n",
            "gan은(는) 심층학습 내용입니다.\n",
            "rnn은(는) 심층학습 내용입니다.\n"
          ]
        }
      ]
    },
    {
      "cell_type": "markdown",
      "source": [
        "반복문과 인덱스"
      ],
      "metadata": {
        "id": "e5zyOMzGaAil"
      }
    },
    {
      "cell_type": "code",
      "source": [
        "for (i,con) in enumerate(contents):\n",
        "  print (\"[%d/%d]: %s\" %(i, len(contents), con))"
      ],
      "metadata": {
        "colab": {
          "base_uri": "https://localhost:8080/"
        },
        "id": "sRcLmkCSaD57",
        "outputId": "dadbcc89-4a6e-4538-d12d-2bbe95165f49"
      },
      "execution_count": 5,
      "outputs": [
        {
          "output_type": "stream",
          "name": "stdout",
          "text": [
            "[0/10]: regression\n",
            "[1/10]: classification\n",
            "[2/10]: svm\n",
            "[3/10]: clustering\n",
            "[4/10]: dimension reduction\n",
            "[5/10]: nn\n",
            "[6/10]: cnn\n",
            "[7/10]: ae\n",
            "[8/10]: gan\n",
            "[9/10]: rnn\n"
          ]
        }
      ]
    },
    {
      "cell_type": "markdown",
      "source": [
        "함수"
      ],
      "metadata": {
        "id": "HtPX1ynCbb3Z"
      }
    },
    {
      "cell_type": "code",
      "source": [
        "def sum(a,b):\n",
        "  return a+b\n",
        "\n",
        "x = 10.0\n",
        "y = 20.0\n",
        "print (\"%.1f + %.1f = %.1f\" %(x, y, sum(x,y)))"
      ],
      "metadata": {
        "colab": {
          "base_uri": "https://localhost:8080/"
        },
        "id": "SIJJvLetbeVd",
        "outputId": "3d807d92-0fe2-46c3-c88f-7d512af62b1a"
      },
      "execution_count": 6,
      "outputs": [
        {
          "output_type": "stream",
          "name": "stdout",
          "text": [
            "10.0 + 20.0 = 30.0\n"
          ]
        }
      ]
    },
    {
      "cell_type": "markdown",
      "source": [
        "리스트"
      ],
      "metadata": {
        "id": "tOQvhNiEb3mI"
      }
    },
    {
      "cell_type": "code",
      "source": [
        "a = []\n",
        "b = [1,2,3]\n",
        "c = [\"hello\", \",\", \"world\"]\n",
        "d = [1,2,3,\"x\", \"y\", \"z\"]\n",
        "x = []\n",
        "print (x)\n",
        "\n",
        "x.append('a')\n",
        "print(x)\n",
        "\n",
        "x.append(123)\n",
        "print(x)\n",
        "\n",
        "x.append([\"a\", \"b\"])\n",
        "print (x)\n"
      ],
      "metadata": {
        "colab": {
          "base_uri": "https://localhost:8080/"
        },
        "id": "7k3RJM8mb57j",
        "outputId": "9e75e7c5-7a20-400a-c215-a75dc4bfff23"
      },
      "execution_count": 9,
      "outputs": [
        {
          "output_type": "stream",
          "name": "stdout",
          "text": [
            "[]\n",
            "['a']\n",
            "['a', 123]\n",
            "['a', 123, ['a', 'b']]\n"
          ]
        }
      ]
    },
    {
      "cell_type": "markdown",
      "source": [
        "딕셔너리"
      ],
      "metadata": {
        "id": "VAgPrpOCcxWf"
      }
    },
    {
      "cell_type": "code",
      "source": [
        "dic = dict()\n",
        "dic[\"name\"] = \"daesik\"\n",
        "dic[\"town\"] = \"yongin city\"\n",
        "dic[\"job\"] = \"assistant professor\"\n",
        "print (dic)"
      ],
      "metadata": {
        "colab": {
          "base_uri": "https://localhost:8080/"
        },
        "id": "C7EwJr7Pc1D1",
        "outputId": "0e818a22-5ee7-41e1-d9ef-b5d292e1f449"
      },
      "execution_count": 10,
      "outputs": [
        {
          "output_type": "stream",
          "name": "stdout",
          "text": [
            "{'name': 'daesik', 'town': 'yongin city', 'job': 'assistant professor'}\n"
          ]
        }
      ]
    },
    {
      "cell_type": "markdown",
      "source": [
        "클래스"
      ],
      "metadata": {
        "id": "SE7DjiKudO86"
      }
    },
    {
      "cell_type": "code",
      "source": [
        "class student:\n",
        "  # 생성자\n",
        "  def __init__(self, name):\n",
        "    self.name = name\n",
        "  def study(self, hard=False):\n",
        "    if hard:\n",
        "      print (\"%s 학생은 열심히 공부합니다.\" %self.name)\n",
        "    else:\n",
        "      print (\"%s 학생은 공부합니다.\" %self.name)\n",
        "\n",
        "s = student('daesik')\n",
        "s.study()\n",
        "s.study(hard = True)"
      ],
      "metadata": {
        "colab": {
          "base_uri": "https://localhost:8080/"
        },
        "id": "LmguUCfZdQOl",
        "outputId": "17edb9cc-c2bc-4f11-8697-abf1981298b3"
      },
      "execution_count": 12,
      "outputs": [
        {
          "output_type": "stream",
          "name": "stdout",
          "text": [
            "daesik 학생은 공부합니다.\n",
            "daesik 학생은 열심히 공부합니다.\n"
          ]
        }
      ]
    },
    {
      "cell_type": "markdown",
      "source": [
        "2. 벡터, 행렬 연산, 그래프 그리기"
      ],
      "metadata": {
        "id": "GJNS1m-NeSUm"
      }
    },
    {
      "cell_type": "markdown",
      "source": [
        "프린트"
      ],
      "metadata": {
        "id": "z6dOSKzNegje"
      }
    },
    {
      "cell_type": "code",
      "source": [
        "def print_val(x):\n",
        "  print (\"Type:\", type(x))\n",
        "  print (\"shape:\", x.shape)\n",
        "  print (\"값:\\n\", x)\n",
        "  print (\" \")"
      ],
      "metadata": {
        "id": "xYyCIYC9ejb8"
      },
      "execution_count": 14,
      "outputs": []
    }
  ]
}