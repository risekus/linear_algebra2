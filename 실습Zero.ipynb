{
  "nbformat": 4,
  "nbformat_minor": 0,
  "metadata": {
    "colab": {
      "provenance": [],
      "authorship_tag": "ABX9TyOXsdKDEurygJAGyHi4r0fG",
      "include_colab_link": true
    },
    "kernelspec": {
      "name": "python3",
      "display_name": "Python 3"
    },
    "language_info": {
      "name": "python"
    }
  },
  "cells": [
    {
      "cell_type": "markdown",
      "metadata": {
        "id": "view-in-github",
        "colab_type": "text"
      },
      "source": [
        "<a href=\"https://colab.research.google.com/github/risekus/linear_algebra2/blob/main/%EC%8B%A4%EC%8A%B5Zero.ipynb\" target=\"_parent\"><img src=\"https://colab.research.google.com/assets/colab-badge.svg\" alt=\"Open In Colab\"/></a>"
      ]
    },
    {
      "cell_type": "code",
      "execution_count": 3,
      "metadata": {
        "colab": {
          "base_uri": "https://localhost:8080/"
        },
        "id": "CgQ2954EVzel",
        "outputId": "b110c5eb-71bd-4152-dd16-8900d77c633c"
      },
      "outputs": [
        {
          "output_type": "stream",
          "name": "stdout",
          "text": [
            "Hello World\n",
            "정수: 3, 03, 003, 0003, 00003\n",
            "실수: 256, 256.1, 256.12\n",
            "문자열: [hello, world]\n"
          ]
        }
      ],
      "source": [
        "print(\"Hello World\")\n",
        "\n",
        "#integer\n",
        "x = 3\n",
        "print (\"정수: %01d, %02d, %03d, %04d, %05d\"\n",
        "      % ( x,x,x,x,x))\n",
        "\n",
        "# float\n",
        "x = 256.123\n",
        "print ( \"실수: %.0f, %.1f, %.2f\"\n",
        "      %(x,x,x))\n",
        "\n",
        "# string\n",
        "x = \"hello, world\"\n",
        "print (\"문자열: [%s]\" % (x))"
      ]
    },
    {
      "cell_type": "markdown",
      "source": [
        "반복문,조건문"
      ],
      "metadata": {
        "id": "MK9Uu598YnYs"
      }
    },
    {
      "cell_type": "code",
      "source": [
        "contents = [\"regression\", \"classification\", \"svm\", \"clustering\", \"dimension reduction\",\n",
        "            \"nn\", \"cnn\", \"ae\", \"gan\", \"rnn\"]\n",
        "for con in contents:\n",
        "  if con in [\"regression\", \"classification\", \"svm\", \"clustering\", \"dimension reduction\"]:\n",
        "    print (\"%s 은(는) 기계학습 내용입니다.\" %con)\n",
        "  elif con in [\"cnn\"]:\n",
        "    print(\"%s 은(는) convolutional neural network입니다.\" %con)\n",
        "  else:\n",
        "    print (\"%s은(는) 심층학습 내용입니다.\" %con)"
      ],
      "metadata": {
        "colab": {
          "base_uri": "https://localhost:8080/"
        },
        "id": "Jf16BMSzYtaf",
        "outputId": "25ec8b4d-f35c-4c26-df74-4e74dea60201"
      },
      "execution_count": 4,
      "outputs": [
        {
          "output_type": "stream",
          "name": "stdout",
          "text": [
            "regression 은(는) 기계학습 내용입니다.\n",
            "classification 은(는) 기계학습 내용입니다.\n",
            "svm 은(는) 기계학습 내용입니다.\n",
            "clustering 은(는) 기계학습 내용입니다.\n",
            "dimension reduction 은(는) 기계학습 내용입니다.\n",
            "nn은(는) 심층학습 내용입니다.\n",
            "cnn 은(는) convolutional neural network입니다.\n",
            "ae은(는) 심층학습 내용입니다.\n",
            "gan은(는) 심층학습 내용입니다.\n",
            "rnn은(는) 심층학습 내용입니다.\n"
          ]
        }
      ]
    },
    {
      "cell_type": "markdown",
      "source": [
        "반복문과 인덱스"
      ],
      "metadata": {
        "id": "e5zyOMzGaAil"
      }
    },
    {
      "cell_type": "code",
      "source": [
        "for (i,con) in enumerate(contents):\n",
        "  print (\"[%d/%d]: %s\" %(i, len(contents), con))"
      ],
      "metadata": {
        "colab": {
          "base_uri": "https://localhost:8080/"
        },
        "id": "sRcLmkCSaD57",
        "outputId": "dadbcc89-4a6e-4538-d12d-2bbe95165f49"
      },
      "execution_count": 5,
      "outputs": [
        {
          "output_type": "stream",
          "name": "stdout",
          "text": [
            "[0/10]: regression\n",
            "[1/10]: classification\n",
            "[2/10]: svm\n",
            "[3/10]: clustering\n",
            "[4/10]: dimension reduction\n",
            "[5/10]: nn\n",
            "[6/10]: cnn\n",
            "[7/10]: ae\n",
            "[8/10]: gan\n",
            "[9/10]: rnn\n"
          ]
        }
      ]
    }
  ]
}